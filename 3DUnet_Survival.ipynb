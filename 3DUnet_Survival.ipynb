{
  "nbformat": 4,
  "nbformat_minor": 0,
  "metadata": {
    "colab": {
      "name": "3DUnet + Survival.ipynb",
      "provenance": [],
      "collapsed_sections": [],
      "authorship_tag": "ABX9TyP7YLbbv6ABLUVtCsUMR5N1",
      "include_colab_link": true
    },
    "kernelspec": {
      "name": "python3",
      "display_name": "Python 3"
    },
    "accelerator": "GPU"
  },
  "cells": [
    {
      "cell_type": "markdown",
      "metadata": {
        "id": "view-in-github",
        "colab_type": "text"
      },
      "source": [
        "<a href=\"https://colab.research.google.com/github/davidseroussi/owkin-lung/blob/master/3DUnet_Survival.ipynb\" target=\"_parent\"><img src=\"https://colab.research.google.com/assets/colab-badge.svg\" alt=\"Open In Colab\"/></a>"
      ]
    },
    {
      "cell_type": "code",
      "metadata": {
        "id": "O5hdkHwNHJdt",
        "colab_type": "code",
        "outputId": "e76ca446-1582-4977-b460-fb013fd96f8a",
        "colab": {
          "base_uri": "https://localhost:8080/",
          "height": 69
        }
      },
      "source": [
        "from google.colab import drive\n",
        "drive.mount('/content/drive')\n",
        "\n",
        "!cp /content/drive/\"My Drive\"/chall_owkin/images.zip .\n",
        "!unzip images.zip"
      ],
      "execution_count": 0,
      "outputs": [
        {
          "output_type": "stream",
          "text": [
            "Drive already mounted at /content/drive; to attempt to forcibly remount, call drive.mount(\"/content/drive\", force_remount=True).\n",
            "Archive:  images.zip\n",
            "replace images/patient_003.npz? [y]es, [n]o, [A]ll, [N]one, [r]ename: N\n"
          ],
          "name": "stdout"
        }
      ]
    },
    {
      "cell_type": "code",
      "metadata": {
        "id": "RDCqSrKSWVEH",
        "colab_type": "code",
        "colab": {}
      },
      "source": [
        "!pip install git+https://www.github.com/farizrahman4u/keras-contrib.git\n",
        "!pip install keras==2.2.4\n",
        "!pip install scikit-survival\n",
        "!git clone https://github.com/davidseroussi/3DUnetCNN.git"
      ],
      "execution_count": 0,
      "outputs": []
    },
    {
      "cell_type": "code",
      "metadata": {
        "id": "HvceVEs1WbRd",
        "colab_type": "code",
        "outputId": "7e5ead6c-f64b-4007-febb-1710ad79f741",
        "colab": {
          "base_uri": "https://localhost:8080/",
          "height": 34
        }
      },
      "source": [
        "cd 3DUnetCNN/"
      ],
      "execution_count": 0,
      "outputs": [
        {
          "output_type": "stream",
          "text": [
            "/content/3DUnetCNN\n"
          ],
          "name": "stdout"
        }
      ]
    },
    {
      "cell_type": "code",
      "metadata": {
        "id": "KCkms7kJUMsi",
        "colab_type": "code",
        "outputId": "9a3eef96-6b64-4c20-cf41-a270cf860d2c",
        "colab": {
          "base_uri": "https://localhost:8080/",
          "height": 81
        }
      },
      "source": [
        "import numpy as np\n",
        "import keras\n",
        "import cv2\n",
        "import os\n",
        "import matplotlib.pyplot as plt"
      ],
      "execution_count": 0,
      "outputs": [
        {
          "output_type": "stream",
          "text": [
            "Using TensorFlow backend.\n"
          ],
          "name": "stderr"
        },
        {
          "output_type": "display_data",
          "data": {
            "text/html": [
              "<p style=\"color: red;\">\n",
              "The default version of TensorFlow in Colab will soon switch to TensorFlow 2.x.<br>\n",
              "We recommend you <a href=\"https://www.tensorflow.org/guide/migrate\" target=\"_blank\">upgrade</a> now \n",
              "or ensure your notebook will continue to use TensorFlow 1.x via the <code>%tensorflow_version 1.x</code> magic:\n",
              "<a href=\"https://colab.research.google.com/notebooks/tensorflow_version.ipynb\" target=\"_blank\">more info</a>.</p>\n"
            ],
            "text/plain": [
              "<IPython.core.display.HTML object>"
            ]
          },
          "metadata": {
            "tags": []
          }
        }
      ]
    },
    {
      "cell_type": "code",
      "metadata": {
        "id": "2NgkSxAfUNzQ",
        "colab_type": "code",
        "colab": {}
      },
      "source": [
        "class DataGenerator(keras.utils.Sequence):\n",
        "    'Generates data for Keras'\n",
        "    def __init__(self, list_item_paths,dir_path, batch_size=1, dim=(80,80,80), n_channels=1,\n",
        "                 n_classes=10, shuffle=True):\n",
        "        'Initialization'\n",
        "        self.dim = dim\n",
        "        self.batch_size = batch_size\n",
        "        self.list_item_paths = list_item_paths\n",
        "        self.dir_path = dir_path\n",
        "        self.n_channels = n_channels\n",
        "        self.n_classes = n_classes\n",
        "        self.shuffle = shuffle\n",
        "        self.on_epoch_end()\n",
        "\n",
        "    def __len__(self):\n",
        "        'Denotes the number of batches per epoch'\n",
        "        return int(np.floor(len(self.list_item_paths) / self.batch_size))\n",
        "\n",
        "    def __getitem__(self, index):\n",
        "        'Generate one batch of data'\n",
        "        # Generate indexes of the batch\n",
        "        indexes = self.indexes[index*self.batch_size:(index+1)*self.batch_size]\n",
        "\n",
        "        # Find list of IDs\n",
        "        list_item_paths_temp = [self.list_item_paths[k] for k in indexes]\n",
        "\n",
        "        # Generate data\n",
        "        X, y = self.__data_generation(list_item_paths_temp)\n",
        "\n",
        "        return X, y\n",
        "\n",
        "    def on_epoch_end(self):\n",
        "        'Updates indexes after each epoch'\n",
        "        self.indexes = np.arange(len(self.list_item_paths))\n",
        "        if self.shuffle == True:\n",
        "            np.random.shuffle(self.indexes)\n",
        "\n",
        "    def __data_generation(self, list_item_paths_temp):\n",
        "        'Generates data containing batch_size samples' # X : (n_samples, *dim, n_channels)\n",
        "        # Initialization\n",
        "        X = np.empty((self.batch_size, self.n_channels, *self.dim))\n",
        "        y = np.empty((self.batch_size, self.n_channels, *self.dim))\n",
        "\n",
        "        # Generate data\n",
        "        for i, item_path in enumerate(list_item_paths_temp):\n",
        "            # Store sample\n",
        "\n",
        "            archive = np.load(self.dir_path + item_path)\n",
        "            scan = archive['scan']\n",
        "            mask = archive['mask']\n",
        "\n",
        "            scan = cv2.resize(scan, dsize=(80, 80))[:,:,6:-6]\n",
        "            mask = cv2.resize(mask.astype(np.uint8), dsize=(80, 80))[:,:,6:-6]\n",
        "\n",
        "            X[i,] = np.expand_dims(scan, axis=0)\n",
        "\n",
        "            # Store class\n",
        "            y[i] = np.expand_dims(mask, axis=0)\n",
        "\n",
        "        return X, y"
      ],
      "execution_count": 0,
      "outputs": []
    },
    {
      "cell_type": "code",
      "metadata": {
        "id": "8KD1Q8NCUWPL",
        "colab_type": "code",
        "colab": {}
      },
      "source": [
        "dir_path = '../images/'\n",
        "archives = os.listdir(dir_path)\n",
        "\n",
        "np.random.shuffle(archives)\n",
        "\n",
        "index_split = int(0.8*len(archives))\n",
        "\n",
        "train_gen = DataGenerator(archives[:index_split], dir_path)\n",
        "test_gen = DataGenerator(archives[index_split:], dir_path, batch_size=2)\n"
      ],
      "execution_count": 0,
      "outputs": []
    },
    {
      "cell_type": "code",
      "metadata": {
        "id": "rUU6Ew9iVmyT",
        "colab_type": "code",
        "colab": {}
      },
      "source": [
        "from unet3d.model import isensee2017_model\n",
        "model = isensee2017_model((1, 80, 80, 80), n_labels=1)"
      ],
      "execution_count": 0,
      "outputs": []
    },
    {
      "cell_type": "code",
      "metadata": {
        "id": "asLwDA8Bdask",
        "colab_type": "code",
        "colab": {}
      },
      "source": [
        "checkpoint = keras.callbacks.ModelCheckpoint(\"/content/drive/My Drive/chall_owkin/3DUnet.h5\", save_best_only=True)\n",
        "early_stopping = keras.callbacks.EarlyStopping(monitor=\"val_loss\", patience=50)\n",
        "reduce_lr = keras.callbacks.ReduceLROnPlateau(monitor='val_loss', factor=0.5, patience=10)\n",
        "csv_logger = keras.callbacks.CSVLogger('/content/drive/My Drive/chall_owkin/training.log')\n",
        "\n",
        "history = model.fit_generator(train_gen, validation_data=test_gen, epochs=500, callbacks=[checkpoint, early_stopping, reduce_lr, csv_logger])"
      ],
      "execution_count": 0,
      "outputs": []
    },
    {
      "cell_type": "code",
      "metadata": {
        "id": "B_o8p764qGTz",
        "colab_type": "code",
        "colab": {}
      },
      "source": [
        "# Plot training & validation loss values\n",
        "plt.plot(history.history['loss'])\n",
        "plt.plot(history.history['val_loss'])\n",
        "plt.title('Model loss')\n",
        "plt.ylabel('Loss')\n",
        "plt.xlabel('Epoch')\n",
        "plt.legend(['Train', 'Test'], loc='upper left')\n",
        "plt.show()"
      ],
      "execution_count": 0,
      "outputs": []
    },
    {
      "cell_type": "code",
      "metadata": {
        "id": "1C9VJ8Lrrhvj",
        "colab_type": "code",
        "colab": {}
      },
      "source": [
        "from unet3d.training import load_old_model\n",
        "model = load_old_model(\"/content/drive/My Drive/chall_owkin/3DUnet.h5\")"
      ],
      "execution_count": 0,
      "outputs": []
    },
    {
      "cell_type": "code",
      "metadata": {
        "id": "x1XfbpM8djct",
        "colab_type": "code",
        "colab": {}
      },
      "source": [
        "dir_path = '../images/'\n",
        "archives = os.listdir(dir_path)\n",
        "train_gen = DataGenerator(['patient_002.npz'], dir_path)\n",
        "\n",
        "for X,y in train_gen:\n",
        "  pred = model.predict(X)\n",
        "  break\n",
        "\n",
        "plt.imshow(X[0][0][:,:,10], cmap='gray')\n",
        "plt.imshow(y[0][0][:,:,20], cmap='gray')\n",
        "plt.imshow(pred[0][0][:,:,20], cmap='gray')"
      ],
      "execution_count": 0,
      "outputs": []
    },
    {
      "cell_type": "code",
      "metadata": {
        "id": "GozoHQagzscb",
        "colab_type": "code",
        "colab": {}
      },
      "source": [
        "from keras.models import Model\n",
        "\n",
        "layer_name = 'leaky_re_lu_13'\n",
        "\n",
        "intermediate_model = keras.layers.GlobalAveragePooling3D()(model.get_layer(layer_name).output)\n",
        "\n",
        "intermediate_model = Model(inputs=model.input,\n",
        "                           outputs=intermediate_model)"
      ],
      "execution_count": 0,
      "outputs": []
    },
    {
      "cell_type": "code",
      "metadata": {
        "id": "pWGfsuapnIjH",
        "colab_type": "code",
        "outputId": "24f897b8-6a55-4b34-9f42-6764159a3c00",
        "colab": {
          "base_uri": "https://localhost:8080/",
          "height": 34
        }
      },
      "source": [
        "ls /content/drive/'My Drive'/chall_owkin/"
      ],
      "execution_count": 0,
      "outputs": [
        {
          "output_type": "stream",
          "text": [
            "3DUnet.h5  \u001b[0m\u001b[01;34mfeatures\u001b[0m/  images.zip  output.csv  training.log\n"
          ],
          "name": "stdout"
        }
      ]
    },
    {
      "cell_type": "code",
      "metadata": {
        "id": "C-xUyRW1nFU4",
        "colab_type": "code",
        "outputId": "aed05df6-c4e3-4aea-f036-0cf252570dd1",
        "colab": {
          "base_uri": "https://localhost:8080/",
          "height": 173
        }
      },
      "source": [
        "import pandas as pd\n",
        "from sklearn.preprocessing import LabelEncoder\n",
        "from sklearn.model_selection import cross_val_score\n",
        "import sksurv\n",
        "\n",
        "train_clinical = pd.read_csv('/content/drive/My Drive/chall_owkin/features/clinical_data.csv')\n",
        "train_clinical = train_clinical.set_index('PatientID')\n",
        "\n",
        "train_radiomics = pd.read_csv('/content/drive/My Drive/chall_owkin/features/radiomics.csv', index_col=0, header=1)[1:]\n",
        "train_radiomics.index = train_radiomics.index.astype(int)\n",
        "train_radiomics.sort_index(inplace=True)\n",
        "\n",
        "train_output = pd.read_csv('/content/drive/My Drive/chall_owkin/output.csv', index_col=0)\n",
        "train_output.sort_index(inplace=True)\n",
        "\n",
        "X = train_clinical[['SourceDataset', 'Nstage']]\n",
        "le = LabelEncoder()\n",
        "X['SourceDataset'] = le.fit_transform(X['SourceDataset'])\n",
        "X.sort_index(inplace=True)\n",
        "\n",
        "y = sksurv.util.Surv.from_dataframe('Event', 'SurvivalTime', train_output)"
      ],
      "execution_count": 0,
      "outputs": [
        {
          "output_type": "stream",
          "text": [
            "/usr/local/lib/python3.6/dist-packages/ipykernel_launcher.py:18: SettingWithCopyWarning: \n",
            "A value is trying to be set on a copy of a slice from a DataFrame.\n",
            "Try using .loc[row_indexer,col_indexer] = value instead\n",
            "\n",
            "See the caveats in the documentation: http://pandas.pydata.org/pandas-docs/stable/user_guide/indexing.html#returning-a-view-versus-a-copy\n",
            "/usr/local/lib/python3.6/dist-packages/ipykernel_launcher.py:19: SettingWithCopyWarning: \n",
            "A value is trying to be set on a copy of a slice from a DataFrame\n",
            "\n",
            "See the caveats in the documentation: http://pandas.pydata.org/pandas-docs/stable/user_guide/indexing.html#returning-a-view-versus-a-copy\n"
          ],
          "name": "stderr"
        }
      ]
    },
    {
      "cell_type": "code",
      "metadata": {
        "id": "sAopz9HOtsJ9",
        "colab_type": "code",
        "colab": {}
      },
      "source": [
        "dir_path = '../images/'\n",
        "archives = os.listdir(dir_path)\n",
        "archives = np.sort(archives)\n",
        "train_gen = DataGenerator(archives, dir_path, shuffle=False)"
      ],
      "execution_count": 0,
      "outputs": []
    },
    {
      "cell_type": "code",
      "metadata": {
        "id": "MBviAWdgyMpi",
        "colab_type": "code",
        "colab": {}
      },
      "source": [
        "feature_preds = intermediate_model.predict_generator(train_gen)"
      ],
      "execution_count": 0,
      "outputs": []
    },
    {
      "cell_type": "code",
      "metadata": {
        "id": "9_iFa58m0iU8",
        "colab_type": "code",
        "colab": {}
      },
      "source": [
        "df_feature = pd.DataFrame(feature_preds)\n",
        "df_feature.set_index(X.index, inplace=True)"
      ],
      "execution_count": 0,
      "outputs": []
    },
    {
      "cell_type": "code",
      "metadata": {
        "id": "C33xc0Em1Dye",
        "colab_type": "code",
        "colab": {}
      },
      "source": [
        "concat = pd.concat([X, df_feature], axis=1)"
      ],
      "execution_count": 0,
      "outputs": []
    },
    {
      "cell_type": "code",
      "metadata": {
        "id": "eickusrN2gNX",
        "colab_type": "code",
        "colab": {}
      },
      "source": [
        "from sksurv.ensemble import RandomSurvivalForest\n",
        "model_rf = RandomSurvivalForest(n_estimators=1000)"
      ],
      "execution_count": 0,
      "outputs": []
    },
    {
      "cell_type": "code",
      "metadata": {
        "id": "F3rY0TF73gDN",
        "colab_type": "code",
        "outputId": "0757bfec-ea8a-4e74-bd57-bf7cf2d8a9b4",
        "colab": {
          "base_uri": "https://localhost:8080/",
          "height": 104
        }
      },
      "source": [
        "model_rf.fit(concat, y)"
      ],
      "execution_count": 0,
      "outputs": [
        {
          "output_type": "execute_result",
          "data": {
            "text/plain": [
              "RandomSurvivalForest(bootstrap=True, max_depth=None, max_features='auto',\n",
              "                     max_leaf_nodes=None, min_samples_leaf=3,\n",
              "                     min_samples_split=6, min_weight_fraction_leaf=0.0,\n",
              "                     n_estimators=1000, n_jobs=None, oob_score=False,\n",
              "                     random_state=None, verbose=0, warm_start=False)"
            ]
          },
          "metadata": {
            "tags": []
          },
          "execution_count": 69
        }
      ]
    },
    {
      "cell_type": "code",
      "metadata": {
        "id": "P-etS47p4cVY",
        "colab_type": "code",
        "outputId": "7943229e-ef27-4aef-d52d-9f5f07f73dfb",
        "colab": {
          "base_uri": "https://localhost:8080/",
          "height": 34
        }
      },
      "source": [
        "model_rf.score(concat, y)"
      ],
      "execution_count": 0,
      "outputs": [
        {
          "output_type": "execute_result",
          "data": {
            "text/plain": [
              "0.9438223571835263"
            ]
          },
          "metadata": {
            "tags": []
          },
          "execution_count": 70
        }
      ]
    },
    {
      "cell_type": "code",
      "metadata": {
        "id": "2uL1O2IP4rI3",
        "colab_type": "code",
        "outputId": "1a3bbb9f-0e73-4080-a946-b315e1db0875",
        "colab": {
          "base_uri": "https://localhost:8080/",
          "height": 34
        }
      },
      "source": [
        "from sklearn.model_selection import cross_val_score\n",
        "from sksurv.ensemble import RandomSurvivalForest\n",
        "\n",
        "model_rf = RandomSurvivalForest(n_estimators=1000)\n",
        "\n",
        "scores = cross_val_score(model_rf, train_radiomics, y, cv=3)\n",
        "print(\"Accuracy: %0.2f (+/- %0.2f)\" % (scores.mean(), scores.std() * 2))"
      ],
      "execution_count": 0,
      "outputs": [
        {
          "output_type": "stream",
          "text": [
            "Accuracy: 0.66 (+/- 0.02)\n"
          ],
          "name": "stdout"
        }
      ]
    },
    {
      "cell_type": "code",
      "metadata": {
        "id": "ZVDx9mbu723o",
        "colab_type": "code",
        "colab": {}
      },
      "source": [
        ""
      ],
      "execution_count": 0,
      "outputs": []
    }
  ]
}